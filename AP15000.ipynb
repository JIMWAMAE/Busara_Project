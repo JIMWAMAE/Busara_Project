{
 "cells": [
  {
   "cell_type": "markdown",
   "metadata": {},
   "source": [
    "## **Busara Projects Intern Task**"
   ]
  },
  {
   "cell_type": "markdown",
   "metadata": {},
   "source": [
    "\n",
    "## **Project Overview: Enhancing Uptake of HIV Preventive Medicine in Kenya**\n",
    "\n",
    "Busara has collaborated with an international organization called JHG (Journey for Health), focusing on sexual reproductive health, to address the challenge of low uptake and demand for HIV preventive medicine in Kenya. The medicine, referred to as DP (Daily Prophylaxis), is crucial for maintaining effective prevention against HIV. Despite its availability at no cost through clinics nationwide, the expected demand has not materialized.\n",
    "\n",
    "The DP program is administered in partnership with numerous clinics throughout Kenya, each responsible for distributing monthly packages containing 30 pills. The program's objective is to encourage consistent use of the medicine for successful prevention. However, JHG is encountering unexpected hurdles in encouraging people to adopt the treatment regimen.\n",
    "\n",
    "Recognizing that behavioral factors may underlie this issue, Busara has undertaken an investigation into the DP program's uptake. The dataset, labeled as DP_Continuation, offers insights into the continuity of DP usage among patients. By analyzing this data, Busara aims to identify patterns, barriers, and potential drivers affecting patients' willingness to consistently adhere to the prescribed regimen.\n",
    "\n",
    "The findings from this project will provide valuable insights to JHG and other stakeholders, shedding light on behavioral dynamics that impact the adoption of preventive medicine. Ultimately, the collaboration between Busara and JHG seeks to improve public health outcomes by addressing challenges in HIV preventive medicine adherence, ultimately leading to a reduction in HIV transmission rates across Kenya."
   ]
  },
  {
   "cell_type": "markdown",
   "metadata": {},
   "source": [
    "## **Problem Statement**\n",
    "The challenge is to boost adherence to free HIV preventive medicine (DP) in Kenya, provided by JHG organization across clinics. Despite accessibility, uptake remains low. This behavioral issue, hindering daily DP pill consumption, needs exploration. Analyzing the DP_Continuation dataset, the project aims to uncover behavioral barriers, patterns, and enablers that influence patients' adherence. Insights from the analysis will inform strategic interventions to enhance DP uptake, potentially leading to reduced HIV transmission rates and improved public health outcomes in Kenya."
   ]
  },
  {
   "cell_type": "markdown",
   "metadata": {},
   "source": [
    "## **Project Objectives**\n",
    "\n",
    "1. **Analyze Behavioral Patterns:** Explore the DP_Continuation dataset to identify behavioral patterns, trends, and factors affecting patients' adherence to the prescribed regimen of DP (Daily Prophylaxis) pills.\n",
    "\n",
    "2. **Identify Barriers and Drivers:** Identify barriers that hinder consistent DP pill consumption, while also recognizing factors that motivate and drive adherence among patients.\n",
    "3. **Recommendation Development:** Develop evidence-based recommendations and strategies to address identified barriers, enhancing DP pill uptake and improving adherence rates among diverse patient populations.\n",
    "\n",
    "4. **Impact Assessment:** Evaluate the potential impact of proposed interventions on DP program adherence, projecting potential improvements in HIV preventive measures and transmission rates across Kenya."
   ]
  },
  {
   "cell_type": "markdown",
   "metadata": {},
   "source": [
    "## **Success Metrics for Enhancing HIV Preventive Medicine Adherence in Kenya**\n",
    "\n",
    "1. Adherence Rate Improvement: Measure the percentage increase in patients consistently adhering to the DP pill regimen over a defined period, comparing baseline adherence rates to post-intervention rates.\n",
    "\n",
    "2. Demographic Segmentation: Analyze adherence improvement among different demographic segments (age, gender, location), aiming for balanced enhancement across diverse patient groups.\n",
    "\n",
    "3. Monthly Clinic Visits: Monitor the frequency of patients' monthly clinic visits for DP pill collection. Target a notable increase in regular visits, reflecting improved adherence."
   ]
  },
  {
   "cell_type": "code",
   "execution_count": 2,
   "metadata": {},
   "outputs": [],
   "source": [
    "# Importing the relevant libraries\n",
    "import pandas as pd\n",
    "import numpy as np\n",
    "import matplotlib.pyplot as plt\n",
    "import seaborn as sns"
   ]
  },
  {
   "cell_type": "code",
   "execution_count": 5,
   "metadata": {},
   "outputs": [
    {
     "data": {
      "text/html": [
       "<div>\n",
       "<style scoped>\n",
       "    .dataframe tbody tr th:only-of-type {\n",
       "        vertical-align: middle;\n",
       "    }\n",
       "\n",
       "    .dataframe tbody tr th {\n",
       "        vertical-align: top;\n",
       "    }\n",
       "\n",
       "    .dataframe thead th {\n",
       "        text-align: right;\n",
       "    }\n",
       "</style>\n",
       "<table border=\"1\" class=\"dataframe\">\n",
       "  <thead>\n",
       "    <tr style=\"text-align: right;\">\n",
       "      <th></th>\n",
       "      <th>clientsid</th>\n",
       "      <th>Gender</th>\n",
       "      <th>CountyOfBirth</th>\n",
       "      <th>Age</th>\n",
       "      <th>EntryPoint</th>\n",
       "      <th>ReferredOrTransferredFrom</th>\n",
       "      <th>InitialVisitDate</th>\n",
       "      <th>BP</th>\n",
       "      <th>Weight_</th>\n",
       "      <th>Height</th>\n",
       "      <th>SignOfSti</th>\n",
       "      <th>Lmp</th>\n",
       "      <th>Cluster</th>\n",
       "      <th>FacilityType</th>\n",
       "      <th>Received_DP</th>\n",
       "      <th>Refill1month</th>\n",
       "      <th>Refill2months</th>\n",
       "      <th>Refill3months</th>\n",
       "      <th>Refill6months</th>\n",
       "      <th>received_counseling</th>\n",
       "    </tr>\n",
       "  </thead>\n",
       "  <tbody>\n",
       "    <tr>\n",
       "      <th>0</th>\n",
       "      <td>10269-07-1/18</td>\n",
       "      <td>M</td>\n",
       "      <td>Kisii</td>\n",
       "      <td>38</td>\n",
       "      <td>Referred</td>\n",
       "      <td>VCT Site</td>\n",
       "      <td>2018-03-14</td>\n",
       "      <td>113/82</td>\n",
       "      <td>68.0</td>\n",
       "      <td>172.0</td>\n",
       "      <td>No</td>\n",
       "      <td>1900-01-01</td>\n",
       "      <td>Nairobi</td>\n",
       "      <td>Public</td>\n",
       "      <td>1</td>\n",
       "      <td>1</td>\n",
       "      <td>1</td>\n",
       "      <td>1</td>\n",
       "      <td>1</td>\n",
       "      <td>0</td>\n",
       "    </tr>\n",
       "    <tr>\n",
       "      <th>1</th>\n",
       "      <td>10269-07-2/18</td>\n",
       "      <td>F</td>\n",
       "      <td>Meru</td>\n",
       "      <td>44</td>\n",
       "      <td>Referred</td>\n",
       "      <td>VCT Site</td>\n",
       "      <td>2018-04-11</td>\n",
       "      <td>120/84</td>\n",
       "      <td>102.0</td>\n",
       "      <td>168.0</td>\n",
       "      <td>No</td>\n",
       "      <td>1900-01-01</td>\n",
       "      <td>Nairobi</td>\n",
       "      <td>Public</td>\n",
       "      <td>1</td>\n",
       "      <td>1</td>\n",
       "      <td>1</td>\n",
       "      <td>1</td>\n",
       "      <td>0</td>\n",
       "      <td>1</td>\n",
       "    </tr>\n",
       "    <tr>\n",
       "      <th>2</th>\n",
       "      <td>10269-07-3/18</td>\n",
       "      <td>M</td>\n",
       "      <td>Kiambu</td>\n",
       "      <td>40</td>\n",
       "      <td>Referred</td>\n",
       "      <td>Outreach</td>\n",
       "      <td>2018-04-04</td>\n",
       "      <td>113/84</td>\n",
       "      <td>0.0</td>\n",
       "      <td>0.0</td>\n",
       "      <td>No</td>\n",
       "      <td>1900-01-01</td>\n",
       "      <td>Nairobi</td>\n",
       "      <td>Public</td>\n",
       "      <td>1</td>\n",
       "      <td>1</td>\n",
       "      <td>1</td>\n",
       "      <td>1</td>\n",
       "      <td>0</td>\n",
       "      <td>1</td>\n",
       "    </tr>\n",
       "    <tr>\n",
       "      <th>3</th>\n",
       "      <td>10269-07-4/18</td>\n",
       "      <td>M</td>\n",
       "      <td>Bungoma</td>\n",
       "      <td>24</td>\n",
       "      <td>Referred</td>\n",
       "      <td>VCT Site</td>\n",
       "      <td>2018-04-11</td>\n",
       "      <td>000/00</td>\n",
       "      <td>0.0</td>\n",
       "      <td>0.0</td>\n",
       "      <td>No</td>\n",
       "      <td>1900-01-01</td>\n",
       "      <td>Nairobi</td>\n",
       "      <td>Public</td>\n",
       "      <td>1</td>\n",
       "      <td>1</td>\n",
       "      <td>1</td>\n",
       "      <td>0</td>\n",
       "      <td>0</td>\n",
       "      <td>1</td>\n",
       "    </tr>\n",
       "    <tr>\n",
       "      <th>4</th>\n",
       "      <td>10269-07-5/18</td>\n",
       "      <td>F</td>\n",
       "      <td>Kiambu</td>\n",
       "      <td>31</td>\n",
       "      <td>Referred</td>\n",
       "      <td>VCT Site</td>\n",
       "      <td>2018-05-13</td>\n",
       "      <td>000/00</td>\n",
       "      <td>75.5</td>\n",
       "      <td>759.5</td>\n",
       "      <td>No</td>\n",
       "      <td>2018-04-01</td>\n",
       "      <td>Nairobi</td>\n",
       "      <td>Public</td>\n",
       "      <td>1</td>\n",
       "      <td>1</td>\n",
       "      <td>0</td>\n",
       "      <td>0</td>\n",
       "      <td>0</td>\n",
       "      <td>1</td>\n",
       "    </tr>\n",
       "  </tbody>\n",
       "</table>\n",
       "</div>"
      ],
      "text/plain": [
       "       clientsid Gender CountyOfBirth  Age EntryPoint  \\\n",
       "0  10269-07-1/18      M         Kisii   38   Referred   \n",
       "1  10269-07-2/18      F          Meru   44   Referred   \n",
       "2  10269-07-3/18      M        Kiambu   40   Referred   \n",
       "3  10269-07-4/18      M       Bungoma   24   Referred   \n",
       "4  10269-07-5/18      F        Kiambu   31   Referred   \n",
       "\n",
       "  ReferredOrTransferredFrom InitialVisitDate      BP  Weight_  Height  \\\n",
       "0                  VCT Site       2018-03-14  113/82     68.0   172.0   \n",
       "1                  VCT Site       2018-04-11  120/84    102.0   168.0   \n",
       "2                  Outreach       2018-04-04  113/84      0.0     0.0   \n",
       "3                  VCT Site       2018-04-11  000/00      0.0     0.0   \n",
       "4                  VCT Site       2018-05-13  000/00     75.5   759.5   \n",
       "\n",
       "  SignOfSti         Lmp  Cluster FacilityType  Received_DP  Refill1month  \\\n",
       "0        No  1900-01-01  Nairobi       Public            1             1   \n",
       "1        No  1900-01-01  Nairobi       Public            1             1   \n",
       "2        No  1900-01-01  Nairobi       Public            1             1   \n",
       "3        No  1900-01-01  Nairobi       Public            1             1   \n",
       "4        No  2018-04-01  Nairobi       Public            1             1   \n",
       "\n",
       "   Refill2months  Refill3months  Refill6months  received_counseling  \n",
       "0              1              1              1                    0  \n",
       "1              1              1              0                    1  \n",
       "2              1              1              0                    1  \n",
       "3              1              0              0                    1  \n",
       "4              0              0              0                    1  "
      ]
     },
     "execution_count": 5,
     "metadata": {},
     "output_type": "execute_result"
    }
   ],
   "source": [
    "# Loading the data\n",
    "data = pd.read_csv('DP_continuation .csv')\n",
    "data.head()"
   ]
  },
  {
   "cell_type": "markdown",
   "metadata": {},
   "source": [
    "Having loaded the data we will mow proceed to describe the dataset so as to understand what is contained in the dataset."
   ]
  },
  {
   "cell_type": "code",
   "execution_count": 6,
   "metadata": {},
   "outputs": [],
   "source": [
    "# class to describe dataset\n",
    "\n",
    "class Describer:\n",
    "\n",
    "    # initialize object\n",
    "\n",
    "    def __init__(self, df):\n",
    "        self.df = df\n",
    "\n",
    "    # method to check shape of data\n",
    "\n",
    "    def shape(self):\n",
    "        out = print(f\"The DataFrame has:\\n\\t* {self.df.shape[0]} rows\\n\\t* {self.df.shape[1]} columns\", '\\n')\n",
    "        return out\n",
    "\n",
    "    # method to check info on dataset\n",
    "\n",
    "    def data_info(self):\n",
    "        out = print(self.df.info(), '\\n')\n",
    "        return out\n",
    "\n",
    "    # method to describe numerical columns\n",
    "\n",
    "    def data_describe(self):\n",
    "        out = self.df.describe()\n",
    "        return out\n",
    "\n",
    "    # method to check data types\n",
    "\n",
    "    def data_type(self):\n",
    "\n",
    "        print(\"Data has\",len( data.select_dtypes(include='number').columns),\n",
    "                \"Numeric columns\")\n",
    "\n",
    "        print(\"and\", len(data.select_dtypes(include='object').columns),\n",
    "          \"Categorical columns\")\n",
    "\n",
    "        print('*******************')\n",
    "        print('*******************')\n",
    "\n",
    "        print('Numerical Columns:', data.select_dtypes(include='number').columns)\n",
    "        print('Categorical Coulumns:', data.select_dtypes(include='object').columns)\n",
    "\n",
    "        return None\n",
    "\n",
    "    # check duplicates\n",
    "\n",
    "    def check_duplicates(self):\n",
    "        duplicates = []\n",
    "\n",
    "        for i in data.duplicated():\n",
    "            duplicates.append(i)\n",
    "        duplicates_set = set(duplicates)\n",
    "        if(len(duplicates_set) == 1):\n",
    "            print('The Dataset has No Duplicates')\n",
    "\n",
    "        else:\n",
    "            duplicates_percentage = np.round(((sum(duplicates)/len(data)) * 100 ), 2)\n",
    "            print(f'Duplicated rows constitute of {duplicates_percentage} % of our dataset')\n",
    "\n",
    "        return None\n",
    "\n",
    "    # method to check missing values\n",
    "\n",
    "    def missing_values(self):\n",
    "\n",
    "\n",
    "        if data.isnull().any().any() == False :\n",
    "\n",
    "            print(\"There Are No Missing Values\")\n",
    "\n",
    "        else:\n",
    "\n",
    "            missing_values = data.isnull().sum().sort_values(ascending=False)\n",
    "\n",
    "            missing_val_percent = ((data.isnull().sum()/len(data)).sort_values(ascending=False))\n",
    "\n",
    "            missing_df = pd.DataFrame({'Missing Values': missing_values, 'Percentage %': missing_val_percent})\n",
    "\n",
    "            return missing_df[missing_df['Percentage %'] > 0]\n",
    "\n"
   ]
  },
  {
   "cell_type": "code",
   "execution_count": 14,
   "metadata": {},
   "outputs": [
    {
     "name": "stdout",
     "output_type": "stream",
     "text": [
      "The DataFrame has:\n",
      "\t* 22131 rows\n",
      "\t* 20 columns \n",
      "\n",
      "The Dataset has No Duplicates\n",
      "Data has 9 Numeric columns\n",
      "and 11 Categorical columns\n",
      "*******************\n",
      "*******************\n",
      "Numerical Columns: Index(['Age', 'Weight_', 'Height', 'Received_DP', 'Refill1month',\n",
      "       'Refill2months', 'Refill3months', 'Refill6months',\n",
      "       'received_counseling'],\n",
      "      dtype='object')\n",
      "Categorical Coulumns: Index(['clientsid', 'Gender', 'CountyOfBirth', 'EntryPoint',\n",
      "       'ReferredOrTransferredFrom', 'InitialVisitDate', 'BP', 'SignOfSti',\n",
      "       'Lmp', 'Cluster', 'FacilityType'],\n",
      "      dtype='object')\n",
      "<class 'pandas.core.frame.DataFrame'>\n",
      "RangeIndex: 22131 entries, 0 to 22130\n",
      "Data columns (total 20 columns):\n",
      " #   Column                     Non-Null Count  Dtype  \n",
      "---  ------                     --------------  -----  \n",
      " 0   clientsid                  22131 non-null  object \n",
      " 1   Gender                     22131 non-null  object \n",
      " 2   CountyOfBirth              22131 non-null  object \n",
      " 3   Age                        22131 non-null  int64  \n",
      " 4   EntryPoint                 22131 non-null  object \n",
      " 5   ReferredOrTransferredFrom  22131 non-null  object \n",
      " 6   InitialVisitDate           22131 non-null  object \n",
      " 7   BP                         21824 non-null  object \n",
      " 8   Weight_                    22014 non-null  float64\n",
      " 9   Height                     22014 non-null  float64\n",
      " 10  SignOfSti                  22014 non-null  object \n",
      " 11  Lmp                        22014 non-null  object \n",
      " 12  Cluster                    22131 non-null  object \n",
      " 13  FacilityType               22131 non-null  object \n",
      " 14  Received_DP                22131 non-null  int64  \n",
      " 15  Refill1month               22131 non-null  int64  \n",
      " 16  Refill2months              22131 non-null  int64  \n",
      " 17  Refill3months              22131 non-null  int64  \n",
      " 18  Refill6months              22131 non-null  int64  \n",
      " 19  received_counseling        22131 non-null  int64  \n",
      "dtypes: float64(2), int64(7), object(11)\n",
      "memory usage: 3.4+ MB\n",
      "None \n",
      "\n"
     ]
    },
    {
     "data": {
      "text/html": [
       "<div>\n",
       "<style scoped>\n",
       "    .dataframe tbody tr th:only-of-type {\n",
       "        vertical-align: middle;\n",
       "    }\n",
       "\n",
       "    .dataframe tbody tr th {\n",
       "        vertical-align: top;\n",
       "    }\n",
       "\n",
       "    .dataframe thead th {\n",
       "        text-align: right;\n",
       "    }\n",
       "</style>\n",
       "<table border=\"1\" class=\"dataframe\">\n",
       "  <thead>\n",
       "    <tr style=\"text-align: right;\">\n",
       "      <th></th>\n",
       "      <th>Missing Values</th>\n",
       "      <th>Percentage %</th>\n",
       "    </tr>\n",
       "  </thead>\n",
       "  <tbody>\n",
       "    <tr>\n",
       "      <th>BP</th>\n",
       "      <td>307</td>\n",
       "      <td>0.013872</td>\n",
       "    </tr>\n",
       "    <tr>\n",
       "      <th>Height</th>\n",
       "      <td>117</td>\n",
       "      <td>0.005287</td>\n",
       "    </tr>\n",
       "    <tr>\n",
       "      <th>Weight_</th>\n",
       "      <td>117</td>\n",
       "      <td>0.005287</td>\n",
       "    </tr>\n",
       "    <tr>\n",
       "      <th>Lmp</th>\n",
       "      <td>117</td>\n",
       "      <td>0.005287</td>\n",
       "    </tr>\n",
       "    <tr>\n",
       "      <th>SignOfSti</th>\n",
       "      <td>117</td>\n",
       "      <td>0.005287</td>\n",
       "    </tr>\n",
       "  </tbody>\n",
       "</table>\n",
       "</div>"
      ],
      "text/plain": [
       "           Missing Values  Percentage %\n",
       "BP                    307      0.013872\n",
       "Height                117      0.005287\n",
       "Weight_               117      0.005287\n",
       "Lmp                   117      0.005287\n",
       "SignOfSti             117      0.005287"
      ]
     },
     "execution_count": 14,
     "metadata": {},
     "output_type": "execute_result"
    }
   ],
   "source": [
    "# creating an instance of the class describer\n",
    "\n",
    "describe_df = Describer(data)\n",
    "\n",
    "# lets view the shape of the data\n",
    "\n",
    "describe_df.shape()\n",
    "\n",
    "# lets check for duplicates\n",
    "\n",
    "describe_df.check_duplicates()\n",
    "\n",
    "# lets describe data types\n",
    "\n",
    "describe_df.data_type()\n",
    "\n",
    "# lets view the info of the data\n",
    "\n",
    "describe_df.data_info()\n",
    "\n",
    "# lets describe numerical cols\n",
    "\n",
    "describe_df.data_describe()\n",
    "\n",
    "# lets get missing values\n",
    "\n",
    "describe_df.missing_values()\n"
   ]
  },
  {
   "cell_type": "markdown",
   "metadata": {},
   "source": [
    "## **Data Understanding:**\n",
    "\n",
    "The provided DataFrame contains a total of 22,131 rows and 20 columns, representing various attributes related to the HIV preventive medicine program. There are no duplicate records within the dataset. The DataFrame is composed of 9 numerical columns and 11 categorical columns.\n",
    "\n",
    "The numerical columns include features such as 'Age', 'Weight_', 'Height', 'Received_DP', 'Refill1month', 'Refill2months', 'Refill3months', 'Refill6months', and 'received_counseling'. These columns capture quantitative data points.\n",
    "\n",
    "On the other hand, the categorical columns encompass attributes like 'clientsid', 'Gender', 'CountyOfBirth', 'EntryPoint', 'ReferredOrTransferredFrom', 'InitialVisitDate', 'BP', 'SignOfSti', 'Lmp', 'Cluster', and 'FacilityType'. These columns hold categorical information, such as gender, geographic location, program entry point, medical indicators, and more.\n",
    "\n",
    "The DataFrame's structure and content indicate a diverse dataset with a combination of both numerical and categorical attributes. The dataset does not exhibit any missing values in the provided non-null count information. The memory usage of the DataFrame is approximately 3.4+ MB. The data types for the columns range from integer (int64), float (float64), to object (string or categorical).\n",
    "\n",
    "Overall, this preliminary data understanding helps provide insights into the nature of the dataset, facilitating further exploration, analysis, and potential insights extraction to address the challenges in HIV preventive medicine adherence."
   ]
  },
  {
   "cell_type": "markdown",
   "metadata": {},
   "source": [
    "## **Data Cleaning:**\n",
    "\n",
    "The data set we have has some missing values as shown by the class function. Therefore we are going to drop the missing values since they consists of a small percentage of the data (ie <1%)."
   ]
  },
  {
   "cell_type": "code",
   "execution_count": 21,
   "metadata": {},
   "outputs": [
    {
     "data": {
      "text/plain": [
       "clientsid                    0\n",
       "Gender                       0\n",
       "CountyOfBirth                0\n",
       "Age                          0\n",
       "EntryPoint                   0\n",
       "ReferredOrTransferredFrom    0\n",
       "InitialVisitDate             0\n",
       "BP                           0\n",
       "Weight_                      0\n",
       "Height                       0\n",
       "SignOfSti                    0\n",
       "Lmp                          0\n",
       "Cluster                      0\n",
       "FacilityType                 0\n",
       "Received_DP                  0\n",
       "Refill1month                 0\n",
       "Refill2months                0\n",
       "Refill3months                0\n",
       "Refill6months                0\n",
       "received_counseling          0\n",
       "dtype: int64"
      ]
     },
     "execution_count": 21,
     "metadata": {},
     "output_type": "execute_result"
    }
   ],
   "source": [
    "#dropin the missing data\n",
    "data = data.dropna()\n",
    "data.isna().sum()"
   ]
  },
  {
   "cell_type": "markdown",
   "metadata": {},
   "source": [
    "As part of pre processing we will create two new columns one to represent the age as an age group and the other to account for the total number of times that the patients revisit the medical facilities to obtain the drug. This will range from 1 which indicates the patient only received the DP without refilling and 5 which indicates that they refillled their DP 4 times."
   ]
  },
  {
   "cell_type": "code",
   "execution_count": 34,
   "metadata": {},
   "outputs": [
    {
     "data": {
      "image/png": "[encoded data removed]",
      "text/plain": [
       "<Figure size 720x576 with 1 Axes>"
      ]
     },
     "metadata": {
      "needs_background": "light"
     },
     "output_type": "display_data"
    }
   ],
   "source": [
    "# Add values from multiple columns into a new column\n",
    "columns_to_sum = ['Received_DP','Refill1month','Refill2months','Refill3months','Refill6months']\n",
    "data['DP_Administered'] = data[columns_to_sum].sum(axis=1)\n",
    "\n",
    "# Grouping values and getting the counts\n",
    "grouped = data['DP_Administered'].value_counts().sort_index()\n",
    "\n",
    "# Create a bar chart\n",
    "plt.figure(figsize=(10, 8))\n",
    "plt.bar(grouped.index, grouped.values, color='blue')\n",
    "\n",
    "# Adding labels and title\n",
    "plt.title('Count of DP_Administered Values')\n",
    "plt.xlabel('DP_Administered Value')\n",
    "plt.ylabel('Count')\n",
    "\n",
    "# Display the chart\n",
    "plt.show()"
   ]
  },
  {
   "cell_type": "code",
   "execution_count": 30,
   "metadata": {},
   "outputs": [
    {
     "data": {
      "image/png": "[encoded data removed]",
      "text/plain": [
       "<Figure size 1152x1440 with 1 Axes>"
      ]
     },
     "metadata": {
      "needs_background": "light"
     },
     "output_type": "display_data"
    }
   ],
   "source": [
    "# Group 'Age' column into bins of 10\n",
    "data['Age_Group'] = pd.cut(data['Age'], bins=range(0, 100, 10), right=False)\n",
    "\n",
    "# Categorical column plots\n",
    "categorical_columns = ['Age_Group']\n",
    "\n",
    "# Bar plots for categorical columns\n",
    "plt.figure(figsize=(16, 20))\n",
    "for i, col in enumerate(categorical_columns, 1):\n",
    "    plt.subplot(4, 2, i)\n",
    "    sns.countplot(x=col, data=data)\n",
    "    plt.title(f'{col} - Count Plot')\n",
    "\n",
    "plt.tight_layout()\n",
    "plt.show()"
   ]
  },
  {
   "cell_type": "code",
   "execution_count": 44,
   "metadata": {},
   "outputs": [
    {
     "data": {
      "image/png": "[encoded data removed]",
      "text/plain": [
       "<Figure size 576x432 with 1 Axes>"
      ]
     },
     "metadata": {
      "needs_background": "light"
     },
     "output_type": "display_data"
    },
    {
     "data": {
      "image/png": "[encoded data removed]",
      "text/plain": [
       "<Figure size 576x432 with 1 Axes>"
      ]
     },
     "metadata": {
      "needs_background": "light"
     },
     "output_type": "display_data"
    },
    {
     "data": {
      "image/png": "[encoded data removed]",
      "text/plain": [
       "<Figure size 576x432 with 1 Axes>"
      ]
     },
     "metadata": {
      "needs_background": "light"
     },
     "output_type": "display_data"
    }
   ],
   "source": [
    "# List of columns for which you want to create Seaborn plots\n",
    "columns_to_plot = ['Cluster', 'Gender','SignOfSti']\n",
    "\n",
    "# Create Seaborn plots for each column\n",
    "for col in columns_to_plot:\n",
    "    plt.figure(figsize=(8, 6))\n",
    "    if data[col].dtype == 'int64' or data[col].dtype == 'float64':\n",
    "        sns.histplot(data[col], bins=10)  # Example of a distribution plot\n",
    "    else:\n",
    "        sns.countplot(x=col, data=data)  # Example of a count plot\n",
    "        \n",
    "    plt.title(f'Distribution of {col}')\n",
    "    plt.xlabel(col)\n",
    "    plt.ylabel('Frequency')\n",
    "    plt.tight_layout()\n",
    "    plt.show()"
   ]
  },
  {
   "cell_type": "code",
   "execution_count": 43,
   "metadata": {},
   "outputs": [
    {
     "data": {
      "image/png": "[encoded data removed]",
      "text/plain": [
       "<Figure size 2160x1800 with 1 Axes>"
      ]
     },
     "metadata": {
      "needs_background": "light"
     },
     "output_type": "display_data"
    }
   ],
   "source": [
    "# Categorical column plots\n",
    "categorical_columns = ['CountyOfBirth']\n",
    "\n",
    "# Bar plots for categorical columns\n",
    "plt.figure(figsize=(30, 25))\n",
    "for i, col in enumerate(categorical_columns, 1):\n",
    "    plt.subplot(4, 2, i)\n",
    "    sns.countplot(x=col, data=data)\n",
    "    plt.title(f'{col} - Count Plot')\n",
    "    plt.xticks(rotation=45)\n",
    "\n",
    "plt.tight_layout()\n",
    "plt.show()"
   ]
  },
  {
   "cell_type": "code",
   "execution_count": 47,
   "metadata": {},
   "outputs": [
    {
     "data": {
      "image/png": "[encoded data removed]",
      "text/plain": [
       "<Figure size 720x432 with 1 Axes>"
      ]
     },
     "metadata": {
      "needs_background": "light"
     },
     "output_type": "display_data"
    }
   ],
   "source": [
    "# Calculate refill rates for each refill variable\n",
    "refill_columns = ['Refill1month', 'Refill2months', 'Refill3months', 'Refill6months']\n",
    "refill_rates = data[refill_columns].sum() / data['Received_DP'].sum()\n",
    "\n",
    "# Create a bar chart to visualize refill rates\n",
    "plt.figure(figsize=(10, 6))\n",
    "refill_rates.plot(kind='bar', color='blue')\n",
    "plt.title('Refill Rates Over Time')\n",
    "plt.xlabel('Refill Period')\n",
    "plt.ylabel('Refill Rate')\n",
    "plt.xticks(rotation=0)\n",
    "plt.tight_layout()\n",
    "plt.show()"
   ]
  },
  {
   "cell_type": "code",
   "execution_count": null,
   "metadata": {},
   "outputs": [],
   "source": []
  }
 ],
 "metadata": {
  "kernelspec": {
   "display_name": "Python (learn-env)",
   "language": "python",
   "name": "learn-env"
  },
  "language_info": {
   "codemirror_mode": {
    "name": "ipython",
    "version": 3
   },
   "file_extension": ".py",
   "mimetype": "text/x-python",
   "name": "python",
   "nbconvert_exporter": "python",
   "pygments_lexer": "ipython3",
   "version": "3.8.5"
  },
  "orig_nbformat": 4
 },
 "nbformat": 4,
 "nbformat_minor": 2
}
